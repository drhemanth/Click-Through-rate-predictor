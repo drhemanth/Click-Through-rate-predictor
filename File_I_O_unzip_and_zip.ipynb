{
 "cells": [
  {
   "cell_type": "markdown",
   "metadata": {},
   "source": [
    "# File I/O with gzip"
   ]
  },
  {
   "cell_type": "markdown",
   "metadata": {},
   "source": [
    "File Import unzip"
   ]
  },
  {
   "cell_type": "code",
   "execution_count": null,
   "metadata": {
    "collapsed": false
   },
   "outputs": [],
   "source": [
    "#importing the gzip library\n",
    "import gzip     \n",
    "#importing the csv library\n",
    "import csv\n",
    "#Opening the .gz file  \n",
    "inF = gzip.open('Data folder/test.txt.gz', 'rb')\n",
    "test=inF.read()\n",
    "#converting the .txt file to csv \n",
    "test_csv =csv.reader(test,delimiter='\\t')\n",
    "data = list(test_csv)\n",
    "#printing no.of lines and coloums in the file\n",
    "print ('No of row: ')\n",
    "print(len(data))\n",
    "print ('No of Cloumns')\n",
    "print(len(data[1]))\n",
    "\n",
    "#Closing the file\n",
    "inF.close()"
   ]
  },
  {
   "cell_type": "markdown",
   "metadata": {},
   "source": [
    "File export zip"
   ]
  },
  {
   "cell_type": "code",
   "execution_count": null,
   "metadata": {
    "collapsed": true
   },
   "outputs": [],
   "source": [
    "#importing the gzip library\n",
    "import gzip     \n",
    "#importing the shutil library\n",
    "import shutil\n",
    "\n",
    "#opening and zip the .txt file \n",
    "\n",
    "with open('Data folder/test.txt', 'rb') as f_in, gzip.open('Data folder/file.txt.gz', 'wb') as f_out:\n",
    "    shutil.copyfileobj(f_in, f_out)\n",
    "    \n"
   ]
  }
 ],
 "metadata": {
  "kernelspec": {
   "display_name": "Python 2",
   "language": "python",
   "name": "python2"
  },
  "language_info": {
   "codemirror_mode": {
    "name": "ipython",
    "version": 2
   },
   "file_extension": ".py",
   "mimetype": "text/x-python",
   "name": "python",
   "nbconvert_exporter": "python",
   "pygments_lexer": "ipython2",
   "version": "2.7.11"
  }
 },
 "nbformat": 4,
 "nbformat_minor": 0
}
